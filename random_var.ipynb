{
  "nbformat": 4,
  "nbformat_minor": 5,
  "metadata": {
    "kernelspec": {
      "display_name": "Python 3",
      "language": "python",
      "name": "python3"
    },
    "language_info": {
      "codemirror_mode": {
        "name": "ipython",
        "version": 3
      },
      "file_extension": ".py",
      "mimetype": "text/x-python",
      "name": "python",
      "nbconvert_exporter": "python",
      "pygments_lexer": "ipython3",
      "version": "3.8.5"
    },
    "colab": {
      "name": "random_var.ipynb",
      "provenance": [],
      "include_colab_link": true
    }
  },
  "cells": [
    {
      "cell_type": "markdown",
      "metadata": {
        "id": "view-in-github",
        "colab_type": "text"
      },
      "source": [
        "<a href=\"https://colab.research.google.com/github/GezhinOleg/Py_Stat_L3/blob/main/random_var.ipynb\" target=\"_parent\"><img src=\"https://colab.research.google.com/assets/colab-badge.svg\" alt=\"Open In Colab\"/></a>"
      ]
    },
    {
      "cell_type": "markdown",
      "metadata": {
        "id": "incorporated-financing"
      },
      "source": [
        "### Смоделировать игру против лотерейного автомата типа “777”. Игрок платит 1 руб., после чего выпадает случайное целое число, равномерно распределенное от 0 до 999. При некоторых значениях числа игрок получает выигрыш.\n",
        "\n",
        "    777: 200 руб.\n",
        "    999: 100 руб.\n",
        "    555: 50 руб.\n",
        "    333: 15 руб.\n",
        "    111: 10 руб.\n",
        "    *77: 5 руб.\n",
        "    **7: 3 руб.\n",
        "    *00: 2 руб.\n",
        "    **0: 1 руб.\n",
        "\n",
        "Вопросы:\n",
        "\n",
        "    Выгодна ли игра игроку?\n",
        "    Сколько в среднем приобретает или теряет игрок за одну игру?\n",
        "\n",
        "**Дополнительное задание повышенной сложности. **\n",
        "\n",
        "Теоретически рассчитать средний выигрыш (проигрыш) и сравнить с результатами моделирования\n",
        "\n",
        "    – любая цифра\n"
      ],
      "id": "incorporated-financing"
    },
    {
      "cell_type": "code",
      "metadata": {
        "colab": {
          "base_uri": "https://localhost:8080/"
        },
        "id": "generous-colleague",
        "outputId": "7573c5a5-b4d1-4e8a-cab5-7b5b48ef9466"
      },
      "source": [
        "import numpy as np\n",
        "trials = 1000000    # Количество попыток\n",
        "successes = 0    # Количество успехов\n",
        "finance_start = 1000000 # сумма которой игрок зашел в казино\n",
        "\n",
        "for i in range(trials):\n",
        "    finance_start -= 1\n",
        "    random_score = np.random.randint(0, 999)    # Случайное количество очков от 0 до 999\n",
        "    if random_score == 777:\n",
        "        successes += 1\n",
        "        finance_start += 200\n",
        "        \n",
        "    elif random_score != 777 and random_score % 100 == 77:\n",
        "        successes += 1\n",
        "        finance_start += 5\n",
        "        \n",
        "    elif random_score != 777 and random_score % 100 != 77 and random_score % 10 == 7:\n",
        "        successes += 1\n",
        "        finance_start += 3\n",
        "        \n",
        "    elif random_score == 999:\n",
        "        successes += 1\n",
        "        finance_start += 100\n",
        "        \n",
        "    elif random_score == 555:\n",
        "        successes += 1\n",
        "        finance_start += 50\n",
        "        \n",
        "    elif random_score == 333:\n",
        "        successes += 1\n",
        "        finance_start += 30\n",
        "        \n",
        "    elif random_score == 111:\n",
        "        successes += 1\n",
        "        finance_start += 15\n",
        "        \n",
        "    elif random_score % 10 == 0:\n",
        "        successes += 1\n",
        "        finance_start += 1\n",
        "        \n",
        "    elif random_score % 100 == 0:\n",
        "        successes += 1\n",
        "        finance_start += 2\n",
        "        \n",
        "print('На начало игры было: 1 000 000 рублей')        \n",
        "print('Количество успехов:', successes)\n",
        "print('Остаток денег после 1000000 ставок:', finance_start)\n",
        "print('Процент выпадения выигрышных комбинаций:', successes / trials*100, '%')\n",
        "print('Получено за игру:', (finance_start - trials) / trials)"
      ],
      "id": "generous-colleague",
      "execution_count": 1,
      "outputs": [
        {
          "output_type": "stream",
          "name": "stdout",
          "text": [
            "На начало игры было: 1 000 000 рублей\n",
            "Количество успехов: 202754\n",
            "Остаток денег после 1000000 ставок: 699613\n",
            "Процент выпадения выигрышных комбинаций: 20.275399999999998 %\n",
            "Получено за игру: -0.300387\n"
          ]
        }
      ]
    },
    {
      "cell_type": "code",
      "metadata": {
        "id": "worst-electronics",
        "outputId": "9a011bc2-3aed-4378-d533-b5372a545b06"
      },
      "source": [
        "count = 0\n",
        "\n",
        "for i in range(1000):\n",
        "    if i == 777 or i == 999 or i == 555 or i == 333  or i == 111 or i%10 == 0 or i%100 == 0:\n",
        "        count += 1\n",
        "    elif i != 777 and i%100 == 77:\n",
        "        count += 1\n",
        "    elif i != 777 and i%100 != 77 and i%10 == 7:\n",
        "        count += 1\n",
        "print('Вероятность выпадения выигрышных комбинаций', count/1000*100, '%')"
      ],
      "id": "worst-electronics",
      "execution_count": null,
      "outputs": [
        {
          "name": "stdout",
          "output_type": "stream",
          "text": [
            "Вероятность выпадения выигрышных комбинаций 20.4 %\n"
          ]
        }
      ]
    },
    {
      "cell_type": "markdown",
      "metadata": {
        "id": "paVNG57TEdQF"
      },
      "source": [
        "Вероятность выпадения выигрышной комбинации - 20.4 %.\n",
        "Согласно практики выигрышные комбинации из 1 миллиона повторений выпадают приблизительно с такой же частотой. С учетом ставки на каждую игру 1 рубль, в итоге игрок за каждую игру теряет приблизительно 30 копеек. \n",
        "Азартные игры ЗЛО!!!"
      ],
      "id": "paVNG57TEdQF"
    },
    {
      "cell_type": "code",
      "metadata": {
        "id": "lw9BSuelFHOk"
      },
      "source": [
        ""
      ],
      "id": "lw9BSuelFHOk",
      "execution_count": null,
      "outputs": []
    }
  ]
}